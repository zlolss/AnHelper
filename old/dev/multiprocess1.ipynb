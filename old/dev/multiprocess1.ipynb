{
 "cells": [
  {
   "cell_type": "markdown",
   "id": "57c7494b-ba8e-4aaf-846b-7604aecdf094",
   "metadata": {},
   "source": [
    "# 调用shared_memory实现程序间的内存共享\n",
    "- 需要python3.8+"
   ]
  },
  {
   "cell_type": "code",
   "execution_count": 14,
   "id": "d2d1468f-7f5a-45bf-a79c-251d8ccad108",
   "metadata": {
    "tags": []
   },
   "outputs": [
    {
     "name": "stdout",
     "output_type": "stream",
     "text": [
      "Shared memory created with name: anhelper_frame1\n"
     ]
    }
   ],
   "source": [
    "import numpy as np\n",
    "from multiprocessing import shared_memory\n",
    "name = \"anhelper_shared_frame_emulator-5562\"\n",
    "def create_shared_memory():\n",
    "    # 可以添加name参数自定义共享内存区域名称，否则自动生成, 对已存在的共享内存区域使用create会导致错误\n",
    "    # 创建一个共享内存区域，包含100个整数\n",
    "    sm = shared_memory.SharedMemory(name=name ,create=True, size=100 * 4)  # 4 bytes per integer ## 丢失后数组无效\n",
    "    # 将共享内存连接到一个数组，需要预定义数组的形状和数据类型，不能超过buf区域大小\n",
    "    array = np.ndarray(shape=(100,), dtype=np.int32, buffer=sm.buf)\n",
    "    # 给数组赋值\n",
    "    for i in range(len(array)):\n",
    "        array[i] = i+3\n",
    "    return array, sm\n",
    "\n",
    "arr, sm = create_shared_memory()\n",
    "print(f\"Shared memory created with name: {sm.name}\")\n"
   ]
  },
  {
   "cell_type": "code",
   "execution_count": 15,
   "id": "c205cabd-c0c4-44e4-8251-718614e84c84",
   "metadata": {
    "tags": []
   },
   "outputs": [
    {
     "name": "stdout",
     "output_type": "stream",
     "text": [
      "030000000400000005000000060000000700000008000000090000000a0000000b0000000c0000000d0000000e0000000f000000100000001100000012000000130000001400000015000000160000001700000018000000190000001a0000001b0000001c0000001d0000001e0000001f000000200000002100000022000000230000002400000025000000260000002700000028000000290000002a0000002b0000002c0000002d0000002e0000002f000000300000003100000032000000330000003400000035000000360000003700000038000000390000003a0000003b0000003c0000003d0000003e0000003f000000400000004100000042000000430000004400000045000000460000004700000048000000490000004a0000004b0000004c0000004d0000004e0000004f000000500000005100000052000000530000005400000055000000560000005700000058000000590000005a0000005b0000005c0000005d0000005e0000005f00000060000000610000006200000063000000640000006500000066000000\n"
     ]
    }
   ],
   "source": [
    "print(sm.buf.hex())"
   ]
  },
  {
   "cell_type": "code",
   "execution_count": 16,
   "id": "57101591-f1ec-407c-bf42-b691b264660b",
   "metadata": {
    "tags": []
   },
   "outputs": [],
   "source": [
    "arr2 = np.ones_like(arr)\n",
    "np.copyto(arr, arr2)"
   ]
  },
  {
   "cell_type": "code",
   "execution_count": 17,
   "id": "41a9c7a0-8039-44d5-8921-0efc17a86da8",
   "metadata": {
    "tags": []
   },
   "outputs": [],
   "source": [
    "# 清理\n",
    "sm.close()\n",
    "sm.unlink()"
   ]
  },
  {
   "cell_type": "code",
   "execution_count": 46,
   "id": "19ebca42-91a7-47fb-adb3-d9352e8538a0",
   "metadata": {},
   "outputs": [
    {
     "data": {
      "text/plain": [
       "(100, 100)"
      ]
     },
     "execution_count": 46,
     "metadata": {},
     "output_type": "execute_result"
    }
   ],
   "source": [
    "a = np.random.random((100,100))\n",
    "a.shape"
   ]
  },
  {
   "cell_type": "code",
   "execution_count": 49,
   "id": "815258c8-274a-47eb-b456-0732d2a01a66",
   "metadata": {},
   "outputs": [
    {
     "ename": "FileExistsError",
     "evalue": "[Errno 17] File exists: '/anlist'",
     "output_type": "error",
     "traceback": [
      "\u001b[0;31m---------------------------------------------------------------------------\u001b[0m",
      "\u001b[0;31mFileExistsError\u001b[0m                           Traceback (most recent call last)",
      "Cell \u001b[0;32mIn[49], line 1\u001b[0m\n\u001b[0;32m----> 1\u001b[0m sl \u001b[38;5;241m=\u001b[39m \u001b[43mshared_memory\u001b[49m\u001b[38;5;241;43m.\u001b[39;49m\u001b[43mShareableList\u001b[49m\u001b[43m(\u001b[49m\u001b[43msequence\u001b[49m\u001b[38;5;241;43m=\u001b[39;49m\u001b[43m[\u001b[49m\u001b[38;5;241;43m0\u001b[39;49m\u001b[43m,\u001b[49m\u001b[38;5;124;43m'\u001b[39;49m\u001b[38;5;124;43mcommand a\u001b[39;49m\u001b[38;5;124;43m'\u001b[39;49m\u001b[43m,\u001b[49m\u001b[38;5;241;43m2\u001b[39;49m\u001b[43m]\u001b[49m\u001b[43m,\u001b[49m\u001b[43m \u001b[49m\u001b[43mname\u001b[49m\u001b[38;5;241;43m=\u001b[39;49m\u001b[38;5;124;43m\"\u001b[39;49m\u001b[38;5;124;43manlist\u001b[39;49m\u001b[38;5;124;43m\"\u001b[39;49m\u001b[43m)\u001b[49m\n",
      "File \u001b[0;32m/usr/lib/python3.10/multiprocessing/shared_memory.py:329\u001b[0m, in \u001b[0;36mShareableList.__init__\u001b[0;34m(self, sequence, name)\u001b[0m\n\u001b[1;32m    319\u001b[0m     _recreation_codes \u001b[38;5;241m=\u001b[39m [\n\u001b[1;32m    320\u001b[0m         \u001b[38;5;28mself\u001b[39m\u001b[38;5;241m.\u001b[39m_extract_recreation_code(item) \u001b[38;5;28;01mfor\u001b[39;00m item \u001b[38;5;129;01min\u001b[39;00m sequence\n\u001b[1;32m    321\u001b[0m     ]\n\u001b[1;32m    322\u001b[0m     requested_size \u001b[38;5;241m=\u001b[39m struct\u001b[38;5;241m.\u001b[39mcalcsize(\n\u001b[1;32m    323\u001b[0m         \u001b[38;5;124m\"\u001b[39m\u001b[38;5;124mq\u001b[39m\u001b[38;5;124m\"\u001b[39m \u001b[38;5;241m+\u001b[39m \u001b[38;5;28mself\u001b[39m\u001b[38;5;241m.\u001b[39m_format_size_metainfo \u001b[38;5;241m+\u001b[39m\n\u001b[1;32m    324\u001b[0m         \u001b[38;5;124m\"\u001b[39m\u001b[38;5;124m\"\u001b[39m\u001b[38;5;241m.\u001b[39mjoin(_formats) \u001b[38;5;241m+\u001b[39m\n\u001b[1;32m    325\u001b[0m         \u001b[38;5;28mself\u001b[39m\u001b[38;5;241m.\u001b[39m_format_packing_metainfo \u001b[38;5;241m+\u001b[39m\n\u001b[1;32m    326\u001b[0m         \u001b[38;5;28mself\u001b[39m\u001b[38;5;241m.\u001b[39m_format_back_transform_codes\n\u001b[1;32m    327\u001b[0m     )\n\u001b[0;32m--> 329\u001b[0m     \u001b[38;5;28mself\u001b[39m\u001b[38;5;241m.\u001b[39mshm \u001b[38;5;241m=\u001b[39m \u001b[43mSharedMemory\u001b[49m\u001b[43m(\u001b[49m\u001b[43mname\u001b[49m\u001b[43m,\u001b[49m\u001b[43m \u001b[49m\u001b[43mcreate\u001b[49m\u001b[38;5;241;43m=\u001b[39;49m\u001b[38;5;28;43;01mTrue\u001b[39;49;00m\u001b[43m,\u001b[49m\u001b[43m \u001b[49m\u001b[43msize\u001b[49m\u001b[38;5;241;43m=\u001b[39;49m\u001b[43mrequested_size\u001b[49m\u001b[43m)\u001b[49m\n\u001b[1;32m    330\u001b[0m \u001b[38;5;28;01melse\u001b[39;00m:\n\u001b[1;32m    331\u001b[0m     \u001b[38;5;28mself\u001b[39m\u001b[38;5;241m.\u001b[39mshm \u001b[38;5;241m=\u001b[39m SharedMemory(name)\n",
      "File \u001b[0;32m/usr/lib/python3.10/multiprocessing/shared_memory.py:104\u001b[0m, in \u001b[0;36mSharedMemory.__init__\u001b[0;34m(self, name, create, size)\u001b[0m\n\u001b[1;32m    102\u001b[0m \u001b[38;5;28;01melse\u001b[39;00m:\n\u001b[1;32m    103\u001b[0m     name \u001b[38;5;241m=\u001b[39m \u001b[38;5;124m\"\u001b[39m\u001b[38;5;124m/\u001b[39m\u001b[38;5;124m\"\u001b[39m \u001b[38;5;241m+\u001b[39m name \u001b[38;5;28;01mif\u001b[39;00m \u001b[38;5;28mself\u001b[39m\u001b[38;5;241m.\u001b[39m_prepend_leading_slash \u001b[38;5;28;01melse\u001b[39;00m name\n\u001b[0;32m--> 104\u001b[0m     \u001b[38;5;28mself\u001b[39m\u001b[38;5;241m.\u001b[39m_fd \u001b[38;5;241m=\u001b[39m \u001b[43m_posixshmem\u001b[49m\u001b[38;5;241;43m.\u001b[39;49m\u001b[43mshm_open\u001b[49m\u001b[43m(\u001b[49m\n\u001b[1;32m    105\u001b[0m \u001b[43m        \u001b[49m\u001b[43mname\u001b[49m\u001b[43m,\u001b[49m\n\u001b[1;32m    106\u001b[0m \u001b[43m        \u001b[49m\u001b[38;5;28;43mself\u001b[39;49m\u001b[38;5;241;43m.\u001b[39;49m\u001b[43m_flags\u001b[49m\u001b[43m,\u001b[49m\n\u001b[1;32m    107\u001b[0m \u001b[43m        \u001b[49m\u001b[43mmode\u001b[49m\u001b[38;5;241;43m=\u001b[39;49m\u001b[38;5;28;43mself\u001b[39;49m\u001b[38;5;241;43m.\u001b[39;49m\u001b[43m_mode\u001b[49m\n\u001b[1;32m    108\u001b[0m \u001b[43m    \u001b[49m\u001b[43m)\u001b[49m\n\u001b[1;32m    109\u001b[0m     \u001b[38;5;28mself\u001b[39m\u001b[38;5;241m.\u001b[39m_name \u001b[38;5;241m=\u001b[39m name\n\u001b[1;32m    110\u001b[0m \u001b[38;5;28;01mtry\u001b[39;00m:\n",
      "\u001b[0;31mFileExistsError\u001b[0m: [Errno 17] File exists: '/anlist'"
     ]
    }
   ],
   "source": [
    "\n",
    "sl = shared_memory.ShareableList(sequence=[0,'command a',2], name=\"anlist\")"
   ]
  },
  {
   "cell_type": "code",
   "execution_count": 41,
   "id": "dcd53588-ca5d-484f-96e9-2820ce4e597c",
   "metadata": {},
   "outputs": [
    {
     "name": "stdout",
     "output_type": "stream",
     "text": [
      "0\n",
      "aaaa\n",
      "2\n"
     ]
    }
   ],
   "source": [
    "for i in sl:\n",
    "    print(i)\n"
   ]
  },
  {
   "cell_type": "code",
   "execution_count": 44,
   "id": "eb59b03d-bd94-4267-9651-af531c7911da",
   "metadata": {},
   "outputs": [],
   "source": [
    "sl.shm.close()\n",
    "sl.shm.unlink()"
   ]
  },
  {
   "cell_type": "code",
   "execution_count": 51,
   "id": "cb56cd0c-3e07-40ee-83cc-6fce389af180",
   "metadata": {},
   "outputs": [
    {
     "ename": "AttributeError",
     "evalue": "module 'multiprocessing' has no attribute 'Connection'",
     "output_type": "error",
     "traceback": [
      "\u001b[0;31m---------------------------------------------------------------------------\u001b[0m",
      "\u001b[0;31mAttributeError\u001b[0m                            Traceback (most recent call last)",
      "Cell \u001b[0;32mIn[51], line 1\u001b[0m\n\u001b[0;32m----> 1\u001b[0m conn \u001b[38;5;241m=\u001b[39m \u001b[43mmultiprocessing\u001b[49m\u001b[38;5;241;43m.\u001b[39;49m\u001b[43mConnection\u001b[49m(\u001b[38;5;124m'\u001b[39m\u001b[38;5;124mipc:///tmp/my_conn\u001b[39m\u001b[38;5;124m'\u001b[39m, timeout\u001b[38;5;241m=\u001b[39m\u001b[38;5;241m1\u001b[39m)\n",
      "\u001b[0;31mAttributeError\u001b[0m: module 'multiprocessing' has no attribute 'Connection'"
     ]
    }
   ],
   "source": [
    "conn = multiprocessing.Connection('ipc:///tmp/my_conn', timeout=1)"
   ]
  },
  {
   "cell_type": "code",
   "execution_count": null,
   "id": "b2fa7616-40ed-404c-9deb-c0b17e3e5069",
   "metadata": {},
   "outputs": [],
   "source": []
  },
  {
   "cell_type": "code",
   "execution_count": 53,
   "id": "f1993af0-13bf-4ccc-803e-93d587fdee43",
   "metadata": {},
   "outputs": [
    {
     "name": "stdout",
     "output_type": "stream",
     "text": [
      "Help on method Semaphore in module multiprocessing.context:\n",
      "\n",
      "Semaphore(value=1) method of multiprocessing.context.DefaultContext instance\n",
      "    Returns a semaphore object\n",
      "\n"
     ]
    }
   ],
   "source": [
    "help(multiprocessing.)"
   ]
  },
  {
   "cell_type": "code",
   "execution_count": 1,
   "id": "cbf1a729-3f62-4c32-be69-6860b932c4e9",
   "metadata": {
    "tags": []
   },
   "outputs": [
    {
     "name": "stdout",
     "output_type": "stream",
     "text": [
      "错误： assignment destination is read-only\n"
     ]
    }
   ],
   "source": [
    "import numpy as np\n",
    "# 创建一个NumPy数组\n",
    "arr = np.array([1, 2, 3, 4, 5])\n",
    "# 设置数组为只读\n",
    "arr.flags.writeable = False\n",
    "# 尝试修改数组，将会抛出错误\n",
    "try:\n",
    "    arr[0] = 10\n",
    "except ValueError as e:\n",
    "    print(\"错误：\", e)"
   ]
  },
  {
   "cell_type": "code",
   "execution_count": 6,
   "id": "642527c9-acf2-4a2d-9190-827262c24c2d",
   "metadata": {
    "tags": []
   },
   "outputs": [
    {
     "name": "stdout",
     "output_type": "stream",
     "text": [
      "<memory at 0x0000024250022440>\n",
      "<memory at 0x0000024250022440>\n",
      "<memory at 0x0000024250022440>\n",
      "<memory at 0x0000024250022440>\n",
      "[1 2 3 4 5]\n"
     ]
    }
   ],
   "source": [
    "import numpy as np\n",
    "# 创建两个NumPy数组\n",
    "arr1 = np.array([1, 2, 3, 4, 5], dtype=np.int32)\n",
    "print(arr1.data)\n",
    "arr2 = np.zeros_like(arr1)\n",
    "print(arr2.data)\n",
    "# 将arr1的数据复制到arr2的缓冲区\n",
    "#np.core.multiarraymemcpy(arr2.data, arr1.data, arr1.nbytes)\n",
    "np.copyto(arr2,arr1)\n",
    "# 现在arr2包含了arr1的数据\n",
    "print(arr1.data)\n",
    "print(arr2.data)\n",
    "print(arr2)"
   ]
  },
  {
   "cell_type": "code",
   "execution_count": 5,
   "id": "3f224595-55ea-4670-b569-18dc75e63c9c",
   "metadata": {
    "tags": []
   },
   "outputs": [
    {
     "data": {
      "text/plain": [
       "<memory at 0x0000024250023100>"
      ]
     },
     "execution_count": 5,
     "metadata": {},
     "output_type": "execute_result"
    }
   ],
   "source": [
    "arr1.data"
   ]
  },
  {
   "cell_type": "code",
   "execution_count": 1,
   "id": "2bda884b-e5b5-42b8-b304-22e90811fa57",
   "metadata": {
    "tags": []
   },
   "outputs": [],
   "source": [
    "\n",
    "from multiprocessing import sharedctypes\n",
    "# 创建一个共享内存的数组\n",
    "shared_array = sharedctypes.RawArray('i', 10)"
   ]
  },
  {
   "cell_type": "code",
   "execution_count": 8,
   "id": "9ee38d39-c04c-48ca-90a1-9431e075a8f9",
   "metadata": {
    "tags": []
   },
   "outputs": [
    {
     "ename": "NameError",
     "evalue": "name 'shared_array' is not defined",
     "output_type": "error",
     "traceback": [
      "\u001b[1;31m---------------------------------------------------------------------------\u001b[0m",
      "\u001b[1;31mNameError\u001b[0m                                 Traceback (most recent call last)",
      "Cell \u001b[1;32mIn[8], line 1\u001b[0m\n\u001b[1;32m----> 1\u001b[0m \u001b[38;5;28;01mfor\u001b[39;00m i \u001b[38;5;129;01min\u001b[39;00m \u001b[43mshared_array\u001b[49m:\n\u001b[0;32m      2\u001b[0m     \u001b[38;5;28mprint\u001b[39m(i)\n",
      "\u001b[1;31mNameError\u001b[0m: name 'shared_array' is not defined"
     ]
    }
   ],
   "source": [
    "for i in shared_array:\n",
    "    print(i)"
   ]
  },
  {
   "cell_type": "code",
   "execution_count": 7,
   "id": "a840e504-8734-4003-93e6-2276c04cb8ab",
   "metadata": {
    "tags": []
   },
   "outputs": [],
   "source": [
    "del shared_array"
   ]
  },
  {
   "cell_type": "code",
   "execution_count": null,
   "id": "4c38940e-3b2c-4e6a-b837-7ffd49cc9a79",
   "metadata": {},
   "outputs": [],
   "source": []
  }
 ],
 "metadata": {
  "kernelspec": {
   "display_name": "py310",
   "language": "python",
   "name": "py310"
  },
  "language_info": {
   "codemirror_mode": {
    "name": "ipython",
    "version": 3
   },
   "file_extension": ".py",
   "mimetype": "text/x-python",
   "name": "python",
   "nbconvert_exporter": "python",
   "pygments_lexer": "ipython3",
   "version": "3.10.13"
  }
 },
 "nbformat": 4,
 "nbformat_minor": 5
}
