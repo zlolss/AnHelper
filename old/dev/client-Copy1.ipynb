{
 "cells": [
  {
   "cell_type": "code",
   "execution_count": 1,
   "id": "9e7e4331-85a4-4cdc-a4ee-3289fc146134",
   "metadata": {
    "tags": []
   },
   "outputs": [],
   "source": [
    "import sys\n",
    "import os\n",
    "# 获取当前文件的目录\n",
    "current_working_directory = os.getcwd()\n",
    "#current_directory = os.path.dirname(os.path.abspath(__file__))\n",
    "# 将当前目录添加到sys.path中\n",
    "sys.path[0] = os.path.join(current_working_directory, '../')"
   ]
  },
  {
   "cell_type": "code",
   "execution_count": 2,
   "id": "60aebd65-f65e-4b2a-8473-87ace217c91e",
   "metadata": {
    "tags": []
   },
   "outputs": [],
   "source": [
    "from anhelper import client"
   ]
  },
  {
   "cell_type": "code",
   "execution_count": 3,
   "id": "2e4e4714-3a81-4a54-bcc0-c487a58b4b6c",
   "metadata": {
    "tags": []
   },
   "outputs": [],
   "source": [
    "c =client.Client(ensure=False, devicename='emulator-5562')\n",
    "#c.ensure()"
   ]
  },
  {
   "cell_type": "code",
   "execution_count": 4,
   "id": "79696544-6a78-4ce8-b89d-17fb122fe63b",
   "metadata": {
    "tags": []
   },
   "outputs": [
    {
     "name": "stderr",
     "output_type": "stream",
     "text": [
      "Dog is running\n",
      "status: watcher inited\n",
      "waiting for lastheartbeattime\n",
      "Dog is not beating\n",
      "Dog is not beating start server\n",
      "starting server\n",
      "waiting for lastheartbeattime\n",
      "Dog is not beating\n",
      "waiting for lastheartbeattime\n",
      "Dog is beating wait server\n",
      "waiting for lastheartbeattime\n",
      "Dog is beating wait server\n",
      "{'name': None, 'password': None}\n"
     ]
    },
    {
     "name": "stdout",
     "output_type": "stream",
     "text": [
      "{'name': None, 'password': None}\n"
     ]
    },
    {
     "name": "stderr",
     "output_type": "stream",
     "text": [
      "成功连接设备emulator-5562：ShareableList([None, None, None, None, 'emulator-5562', None, 1280, 720, None, None, None, 5012, False, False, False, 'anhelper_shared_frame_emulator-5562', 0], name='anhelper_shared_device_emulator-5562')\n"
     ]
    }
   ],
   "source": [
    "c.ensure()"
   ]
  },
  {
   "cell_type": "code",
   "execution_count": 5,
   "id": "cc1825ed-f93a-4d12-9469-90a5d690999c",
   "metadata": {},
   "outputs": [
    {
     "data": {
      "text/plain": [
       "ShareableList([None, None, None, None, 'emulator-5562', None, 1280, 720, None, None, None, 5012, False, False, False, 'anhelper_shared_frame_emulator-5562', 0], name='anhelper_shared_device_emulator-5562')"
      ]
     },
     "execution_count": 5,
     "metadata": {},
     "output_type": "execute_result"
    }
   ],
   "source": [
    "\n",
    "c.deviceparams"
   ]
  },
  {
   "cell_type": "code",
   "execution_count": null,
   "id": "4a88d8dd-88bc-4d84-bbdb-7c6e7fc7c5c2",
   "metadata": {
    "tags": []
   },
   "outputs": [],
   "source": []
  },
  {
   "cell_type": "code",
   "execution_count": 6,
   "id": "b4a5e60c-2c81-453a-95fa-fd2e275e9212",
   "metadata": {
    "tags": []
   },
   "outputs": [
    {
     "name": "stderr",
     "output_type": "stream",
     "text": [
      "不能重复绑定设备\n",
      "等待帧样本\n",
      "通过websocket传输python对象存在安全风险，\n",
      "建议添加password参数启用AES加密\n",
      "emulator-5562 共享内存名：anhelper_shared_frame_emulator-5562 大小：2764800\n",
      "emulator-5562 共享内存已连接\n",
      "emulator-5562 共享内存已映射\n"
     ]
    }
   ],
   "source": [
    "im = c.cap()"
   ]
  },
  {
   "cell_type": "code",
   "execution_count": 1,
   "id": "82c2da29-743b-4dcd-a51a-c3d6e364eb89",
   "metadata": {
    "tags": []
   },
   "outputs": [
    {
     "ename": "NameError",
     "evalue": "name 'c' is not defined",
     "output_type": "error",
     "traceback": [
      "\u001b[1;31m---------------------------------------------------------------------------\u001b[0m",
      "\u001b[1;31mNameError\u001b[0m                                 Traceback (most recent call last)",
      "Cell \u001b[1;32mIn[1], line 2\u001b[0m\n\u001b[0;32m      1\u001b[0m \u001b[38;5;28;01mfrom\u001b[39;00m \u001b[38;5;21;01mPIL\u001b[39;00m \u001b[38;5;28;01mimport\u001b[39;00m Image\n\u001b[1;32m----> 2\u001b[0m img \u001b[38;5;241m=\u001b[39m Image\u001b[38;5;241m.\u001b[39mfromarray(\u001b[43mc\u001b[49m\u001b[38;5;241m.\u001b[39mframe[:,:,[\u001b[38;5;241m2\u001b[39m,\u001b[38;5;241m1\u001b[39m,\u001b[38;5;241m0\u001b[39m]])\n\u001b[0;32m      3\u001b[0m display(img)\n",
      "\u001b[1;31mNameError\u001b[0m: name 'c' is not defined"
     ]
    }
   ],
   "source": [
    "from PIL import Image\n",
    "img = Image.fromarray(c.frame[:,:,[2,1,0]])\n",
    "display(img)"
   ]
  },
  {
   "cell_type": "code",
   "execution_count": 8,
   "id": "ae3d2cee-cc1b-4f70-b556-a90dd3525186",
   "metadata": {},
   "outputs": [
    {
     "name": "stdout",
     "output_type": "stream",
     "text": [
      "Help on function fromarray in module PIL.Image:\n",
      "\n",
      "fromarray(obj, mode=None)\n",
      "    Creates an image memory from an object exporting the array interface\n",
      "    (using the buffer protocol)::\n",
      "\n",
      "      from PIL import Image\n",
      "      import numpy as np\n",
      "      a = np.zeros((5, 5))\n",
      "      im = Image.fromarray(a)\n",
      "\n",
      "    If ``obj`` is not contiguous, then the ``tobytes`` method is called\n",
      "    and :py:func:`~PIL.Image.frombuffer` is used.\n",
      "\n",
      "    In the case of NumPy, be aware that Pillow modes do not always correspond\n",
      "    to NumPy dtypes. Pillow modes only offer 1-bit pixels, 8-bit pixels,\n",
      "    32-bit signed integer pixels, and 32-bit floating point pixels.\n",
      "\n",
      "    Pillow images can also be converted to arrays::\n",
      "\n",
      "      from PIL import Image\n",
      "      import numpy as np\n",
      "      im = Image.open(\"hopper.jpg\")\n",
      "      a = np.asarray(im)\n",
      "\n",
      "    When converting Pillow images to arrays however, only pixel values are\n",
      "    transferred. This means that P and PA mode images will lose their palette.\n",
      "\n",
      "    :param obj: Object with array interface\n",
      "    :param mode: Optional mode to use when reading ``obj``. Will be determined from\n",
      "      type if ``None``.\n",
      "\n",
      "      This will not be used to convert the data after reading, but will be used to\n",
      "      change how the data is read::\n",
      "\n",
      "        from PIL import Image\n",
      "        import numpy as np\n",
      "        a = np.full((1, 1), 300)\n",
      "        im = Image.fromarray(a, mode=\"L\")\n",
      "        im.getpixel((0, 0))  # 44\n",
      "        im = Image.fromarray(a, mode=\"RGB\")\n",
      "        im.getpixel((0, 0))  # (44, 1, 0)\n",
      "\n",
      "      See: :ref:`concept-modes` for general information about modes.\n",
      "    :returns: An image object.\n",
      "\n",
      "    .. versionadded:: 1.1.6\n",
      "\n"
     ]
    }
   ],
   "source": [
    "help(Image.fromarray)"
   ]
  },
  {
   "cell_type": "code",
   "execution_count": null,
   "id": "67f359e5-4758-422b-b7ce-ef038660a7e3",
   "metadata": {},
   "outputs": [],
   "source": []
  }
 ],
 "metadata": {
  "kernelspec": {
   "display_name": "py312",
   "language": "python",
   "name": "py312"
  },
  "language_info": {
   "codemirror_mode": {
    "name": "ipython",
    "version": 3
   },
   "file_extension": ".py",
   "mimetype": "text/x-python",
   "name": "python",
   "nbconvert_exporter": "python",
   "pygments_lexer": "ipython3",
   "version": "3.12.0"
  }
 },
 "nbformat": 4,
 "nbformat_minor": 5
}
