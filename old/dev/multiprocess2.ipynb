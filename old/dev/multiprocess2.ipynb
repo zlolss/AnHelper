{
 "cells": [
  {
   "cell_type": "markdown",
   "id": "d432c25a-76a3-4b24-a71b-dd001a5f5de3",
   "metadata": {},
   "source": [
    "# 接收端"
   ]
  },
  {
   "cell_type": "code",
   "execution_count": 1,
   "id": "c4bd5f24-b85d-4f8b-a2a5-acc3f71eecf9",
   "metadata": {
    "tags": []
   },
   "outputs": [],
   "source": [
    "from multiprocessing import shared_memory\n",
    "import numpy as np\n",
    "def access_shared_memory(shared_memory_name):\n",
    "    # 连接到已存在的共享内存区域\n",
    "    sm = shared_memory.SharedMemory(name=shared_memory_name)\n",
    "    # 将共享内存连接到一个数组，需要预定义数组的形状和数据类型，不能超过buf区域大小\n",
    "    array = np.ndarray(shape=(100,), dtype=np.int32, buffer=sm.buf) \n",
    "    array.flags.writeable=False #设定为只读\n",
    "    #array = multiprocessing.Array('i', sm.buf)\n",
    "    # 读取并打印数组内容\n",
    "    #array[0] = 4\n",
    "    print(f\"Shared memory array: {array[:]}\")\n",
    "    \n",
    "    # 关闭共享内存连接\n",
    "    #sm.close()\n",
    "    return array, sm\n",
    "    \n"
   ]
  },
  {
   "cell_type": "code",
   "execution_count": 2,
   "id": "de72e209-dcf8-44f2-8835-3c81fb196ddb",
   "metadata": {
    "tags": []
   },
   "outputs": [
    {
     "name": "stdout",
     "output_type": "stream",
     "text": [
      "Shared memory array: [  3   4   5   6   7   8   9  10  11  12  13  14  15  16  17  18  19  20\n",
      "  21  22  23  24  25  26  27  28  29  30  31  32  33  34  35  36  37  38\n",
      "  39  40  41  42  43  44  45  46  47  48  49  50  51  52  53  54  55  56\n",
      "  57  58  59  60  61  62  63  64  65  66  67  68  69  70  71  72  73  74\n",
      "  75  76  77  78  79  80  81  82  83  84  85  86  87  88  89  90  91  92\n",
      "  93  94  95  96  97  98  99 100 101 102]\n",
      "CPU times: total: 0 ns\n",
      "Wall time: 1.95 ms\n"
     ]
    }
   ],
   "source": [
    "%%time\n",
    "# 假设你已经知道了共享内存的名称，需要使用发送端的共享内存名称\n",
    "shared_memory_name = 'anhelper_frame1'\n",
    "sarr, sm = access_shared_memory(shared_memory_name)"
   ]
  },
  {
   "cell_type": "code",
   "execution_count": 3,
   "id": "54dd388f-5bb4-439c-bda3-666c4c0f7191",
   "metadata": {
    "tags": []
   },
   "outputs": [
    {
     "name": "stdout",
     "output_type": "stream",
     "text": [
      "CPU times: total: 0 ns\n",
      "Wall time: 0 ns\n"
     ]
    },
    {
     "data": {
      "text/plain": [
       "array([  3,   4,   5,   6,   7,   8,   9,  10,  11,  12,  13,  14,  15,\n",
       "        16,  17,  18,  19,  20,  21,  22,  23,  24,  25,  26,  27,  28,\n",
       "        29,  30,  31,  32,  33,  34,  35,  36,  37,  38,  39,  40,  41,\n",
       "        42,  43,  44,  45,  46,  47,  48,  49,  50,  51,  52,  53,  54,\n",
       "        55,  56,  57,  58,  59,  60,  61,  62,  63,  64,  65,  66,  67,\n",
       "        68,  69,  70,  71,  72,  73,  74,  75,  76,  77,  78,  79,  80,\n",
       "        81,  82,  83,  84,  85,  86,  87,  88,  89,  90,  91,  92,  93,\n",
       "        94,  95,  96,  97,  98,  99, 100, 101, 102])"
      ]
     },
     "execution_count": 3,
     "metadata": {},
     "output_type": "execute_result"
    }
   ],
   "source": [
    "%%time\n",
    "sarr"
   ]
  },
  {
   "cell_type": "code",
   "execution_count": 4,
   "id": "43d4c929-d8c7-489c-bbcb-18f289bca506",
   "metadata": {
    "tags": []
   },
   "outputs": [],
   "source": [
    "sm.close()"
   ]
  },
  {
   "cell_type": "code",
   "execution_count": 18,
   "id": "8d04b785-2768-4074-a2dd-ff02419ec6d2",
   "metadata": {},
   "outputs": [
    {
     "name": "stdout",
     "output_type": "stream",
     "text": [
      "ShareableList([0, 'command a', 2], name='anlist')\n"
     ]
    }
   ],
   "source": [
    "sl = shared_memory.ShareableList( name=\"anlist\")\n",
    "print(sl)\n",
    "sl.shm.close()"
   ]
  },
  {
   "cell_type": "code",
   "execution_count": null,
   "id": "dc49f1c2-41cb-48cb-9d7f-1919e5879e5b",
   "metadata": {},
   "outputs": [],
   "source": []
  }
 ],
 "metadata": {
  "kernelspec": {
   "display_name": "py312",
   "language": "python",
   "name": "py312"
  },
  "language_info": {
   "codemirror_mode": {
    "name": "ipython",
    "version": 3
   },
   "file_extension": ".py",
   "mimetype": "text/x-python",
   "name": "python",
   "nbconvert_exporter": "python",
   "pygments_lexer": "ipython3",
   "version": "3.12.0"
  }
 },
 "nbformat": 4,
 "nbformat_minor": 5
}
