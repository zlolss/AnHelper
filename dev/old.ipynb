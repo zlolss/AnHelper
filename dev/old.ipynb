{
 "cells": [
  {
   "cell_type": "code",
   "execution_count": 1,
   "id": "43da18c2-a2cd-452e-a8df-a86a05f5ed0d",
   "metadata": {
    "tags": []
   },
   "outputs": [],
   "source": [
    "import anhelper"
   ]
  },
  {
   "cell_type": "code",
   "execution_count": 2,
   "id": "5add7d51-8a06-4124-8036-f08e112e163f",
   "metadata": {
    "tags": []
   },
   "outputs": [
    {
     "data": {
      "text/plain": [
       "{'emulator-5562': ['device',\n",
       "  'product:V1938T',\n",
       "  'model:V1938T',\n",
       "  'device:gracelte',\n",
       "  'transport_id:1']}"
      ]
     },
     "execution_count": 2,
     "metadata": {},
     "output_type": "execute_result"
    }
   ],
   "source": [
    "anhelper.listDevices()"
   ]
  },
  {
   "cell_type": "code",
   "execution_count": 5,
   "id": "3726edf5-2766-4d64-badc-4016a521cade",
   "metadata": {
    "tags": []
   },
   "outputs": [
    {
     "name": "stdout",
     "output_type": "stream",
     "text": [
      "指定安卓设备emulator-55622未通过adb连接，请先连接\n"
     ]
    }
   ],
   "source": [
    "anhelper.device.getDevice('emulator-5562')"
   ]
  },
  {
   "cell_type": "code",
   "execution_count": null,
   "id": "44f1ec8c-4422-41f0-be9d-ca09679fa1e2",
   "metadata": {},
   "outputs": [],
   "source": []
  }
 ],
 "metadata": {
  "kernelspec": {
   "display_name": "py312",
   "language": "python",
   "name": "py312"
  },
  "language_info": {
   "codemirror_mode": {
    "name": "ipython",
    "version": 3
   },
   "file_extension": ".py",
   "mimetype": "text/x-python",
   "name": "python",
   "nbconvert_exporter": "python",
   "pygments_lexer": "ipython3",
   "version": "3.12.0"
  }
 },
 "nbformat": 4,
 "nbformat_minor": 5
}
