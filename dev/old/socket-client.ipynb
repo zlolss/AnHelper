{
 "cells": [
  {
   "cell_type": "code",
   "execution_count": 3,
   "id": "cac54dd9-94ed-48bf-9e42-1e1673183334",
   "metadata": {
    "tags": []
   },
   "outputs": [],
   "source": [
    "import socket\n",
    "socket.setdefaulttimeout(2)\n",
    "c = socket.socket(socket.AF_INET, socket.SOCK_STREAM)\n",
    "c.connect(('127.0.0.1', 5002))\n",
    "c.sendall(\"bbb\".encode())    "
   ]
  },
  {
   "cell_type": "code",
   "execution_count": 4,
   "id": "fbe48772-6c99-460d-8c19-fc5778867f97",
   "metadata": {
    "tags": []
   },
   "outputs": [],
   "source": [
    "c.sendall(\"ccc\".encode()) "
   ]
  },
  {
   "cell_type": "code",
   "execution_count": 6,
   "id": "ad759bde-8c44-4990-985e-b218b2af0c2a",
   "metadata": {
    "tags": []
   },
   "outputs": [
    {
     "ename": "TimeoutError",
     "evalue": "timed out",
     "output_type": "error",
     "traceback": [
      "\u001b[1;31m---------------------------------------------------------------------------\u001b[0m",
      "\u001b[1;31mTimeoutError\u001b[0m                              Traceback (most recent call last)",
      "Cell \u001b[1;32mIn[6], line 1\u001b[0m\n\u001b[1;32m----> 1\u001b[0m \u001b[43mc\u001b[49m\u001b[38;5;241;43m.\u001b[39;49m\u001b[43mrecv\u001b[49m\u001b[43m(\u001b[49m\u001b[38;5;241;43m1024\u001b[39;49m\u001b[43m)\u001b[49m\n",
      "\u001b[1;31mTimeoutError\u001b[0m: timed out"
     ]
    }
   ],
   "source": [
    "c.recv(1024)"
   ]
  },
  {
   "cell_type": "code",
   "execution_count": 3,
   "id": "976bfc5f-c019-4c75-8e6d-20b704017352",
   "metadata": {
    "tags": []
   },
   "outputs": [],
   "source": [
    "c.close()"
   ]
  },
  {
   "cell_type": "code",
   "execution_count": 6,
   "id": "dcf013b2-2c44-42e7-b7d1-52f773db6f06",
   "metadata": {
    "tags": []
   },
   "outputs": [],
   "source": [
    "# socket in thread\n",
    "import threading\n",
    "import socket\n",
    "class SocketClient(threading.Thread):\n",
    "    def __init__(self, addr):\n",
    "        super().__init__()\n",
    "        self.addr = addr \n",
    "        self.conn = None\n",
    "    def run(self):\n",
    "        try:\n",
    "            c = socket.socket(socket.AF_INET, socket.SOCK_STREAM)\n",
    "            c.connect(self.addr)\n",
    "            self.conn = c\n",
    "        except Exception as e:\n",
    "            print(f'connet to {self.addr} faild: {e}')\n",
    "            return\n",
    "        c.sendall(\"bbb\".encode())\n",
    "        data = c.recv(1024)\n",
    "        print(data)\n",
    "        c.close()\n",
    "        print('recv_thread_end')\n",
    "    def shutdown(self, flag = socket.SHUT_RDWR):\n",
    "        print('run shutdown')\n",
    "        self.conn.shutdown(flag)\n",
    "        \n",
    "sc = SocketClient(('127.0.0.1', 5002))\n",
    "sc.start()"
   ]
  },
  {
   "cell_type": "code",
   "execution_count": 7,
   "id": "7bebb9d8-5610-4487-b7b2-9c74dd86fbfc",
   "metadata": {
    "tags": []
   },
   "outputs": [],
   "source": [
    "sc.conn.sendall('cccc'.encode())"
   ]
  },
  {
   "cell_type": "code",
   "execution_count": 8,
   "id": "4108c2d4-51e8-49a0-b3f9-e9d61bbab1d2",
   "metadata": {
    "tags": []
   },
   "outputs": [
    {
     "name": "stdout",
     "output_type": "stream",
     "text": [
      "run shutdown\n",
      "b''\n",
      "recv_thread_end\n"
     ]
    }
   ],
   "source": [
    "sc.shutdown()"
   ]
  },
  {
   "cell_type": "code",
   "execution_count": 5,
   "id": "615a0c0b-af08-42d6-80fc-958f4983b6ab",
   "metadata": {
    "tags": []
   },
   "outputs": [
    {
     "name": "stderr",
     "output_type": "stream",
     "text": [
      "Exception in thread Thread-5:\n",
      "Traceback (most recent call last):\n",
      "  File \"D:\\enviroments\\conda-enviroments\\py312\\Lib\\threading.py\", line 1052, in _bootstrap_inner\n",
      "    self.run()\n",
      "  File \"C:\\Users\\zlols\\AppData\\Local\\Temp\\ipykernel_11568\\3781047316.py\", line 18, in run\n",
      "ConnectionAbortedError: [WinError 10053] 你的主机中的软件中止了一个已建立的连接。\n"
     ]
    }
   ],
   "source": [
    "sc.conn.close()"
   ]
  },
  {
   "cell_type": "code",
   "execution_count": 9,
   "id": "adbd0bc8-3bdc-44e8-aecb-e312fb69de30",
   "metadata": {
    "tags": []
   },
   "outputs": [],
   "source": [
    "fp = open('test.txt', 'w')"
   ]
  },
  {
   "cell_type": "code",
   "execution_count": 10,
   "id": "8297c8d2-8f86-4c44-b4b5-8742aaa9e56f",
   "metadata": {
    "tags": []
   },
   "outputs": [],
   "source": [
    "fp.close()"
   ]
  },
  {
   "cell_type": "code",
   "execution_count": null,
   "id": "e8a0cfa5-333e-46ce-9a14-799397bbeb38",
   "metadata": {},
   "outputs": [],
   "source": []
  }
 ],
 "metadata": {
  "kernelspec": {
   "display_name": "py312",
   "language": "python",
   "name": "py312"
  },
  "language_info": {
   "codemirror_mode": {
    "name": "ipython",
    "version": 3
   },
   "file_extension": ".py",
   "mimetype": "text/x-python",
   "name": "python",
   "nbconvert_exporter": "python",
   "pygments_lexer": "ipython3",
   "version": "3.12.0"
  }
 },
 "nbformat": 4,
 "nbformat_minor": 5
}
