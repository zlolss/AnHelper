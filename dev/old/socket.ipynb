{
 "cells": [
  {
   "cell_type": "code",
   "execution_count": 1,
   "id": "2cc7af91-c4ba-415a-b82c-0893212b18ea",
   "metadata": {
    "tags": []
   },
   "outputs": [],
   "source": []
  },
  {
   "cell_type": "code",
   "execution_count": 2,
   "id": "bfeefa73-f54e-4e69-b692-65250af48823",
   "metadata": {
    "tags": []
   },
   "outputs": [],
   "source": []
  },
  {
   "cell_type": "code",
   "execution_count": null,
   "id": "4a477c66-9113-4818-9eb5-c93fc8c49e87",
   "metadata": {
    "tags": []
   },
   "outputs": [
    {
     "name": "stdout",
     "output_type": "stream",
     "text": [
      "Connected by ('127.0.0.1', 59884)\n",
      "b'bbb'\n",
      "b'ccc'\n"
     ]
    }
   ],
   "source": [
    "import concurrent.futures\n",
    "import socket\n",
    "\n",
    "svr = socket.socket(socket.AF_INET, socket.SOCK_STREAM)\n",
    "svr.bind(('127.0.0.1',5002))\n",
    "svr.listen()\n",
    "\n",
    "def withconn(conn, addr):\n",
    "    with conn:\n",
    "        print('Connected by', addr)\n",
    "        data = conn.recv(1024)\n",
    "        while data:\n",
    "            print(data)\n",
    "            try:\n",
    "                data = conn.recv(1024)\n",
    "            except Exception as e:\n",
    "                data = ''\n",
    "                print(f\"异常关闭连接\")\n",
    "    print('正常关闭连接')\n",
    "    \n",
    "executor = concurrent.futures.ThreadPoolExecutor(max_workers=1)\n",
    "while True:\n",
    "    \n",
    "    conn, addr = svr.accept()\n",
    "\n",
    "    executor.submit(withconn, conn, addr)\n",
    "        "
   ]
  },
  {
   "cell_type": "code",
   "execution_count": null,
   "id": "e88762c0-dbf8-4703-8dfa-e0089108bb11",
   "metadata": {},
   "outputs": [],
   "source": []
  },
  {
   "cell_type": "code",
   "execution_count": 7,
   "id": "f4a255b7-e33d-4435-8f1f-49f119247b1b",
   "metadata": {
    "tags": []
   },
   "outputs": [],
   "source": [
    "fp = open('test.txt', 'w')\n"
   ]
  },
  {
   "cell_type": "code",
   "execution_count": 8,
   "id": "2c8285ca-d4aa-4dc5-baeb-c7ee315b5b63",
   "metadata": {
    "tags": []
   },
   "outputs": [],
   "source": [
    "fp.close()"
   ]
  },
  {
   "cell_type": "code",
   "execution_count": null,
   "id": "18a1307b-8e0b-4da2-8e24-d91e93656429",
   "metadata": {},
   "outputs": [],
   "source": []
  }
 ],
 "metadata": {
  "kernelspec": {
   "display_name": "py312",
   "language": "python",
   "name": "py312"
  },
  "language_info": {
   "codemirror_mode": {
    "name": "ipython",
    "version": 3
   },
   "file_extension": ".py",
   "mimetype": "text/x-python",
   "name": "python",
   "nbconvert_exporter": "python",
   "pygments_lexer": "ipython3",
   "version": "3.12.0"
  }
 },
 "nbformat": 4,
 "nbformat_minor": 5
}
