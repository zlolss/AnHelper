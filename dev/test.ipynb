{
 "cells": [
  {
   "cell_type": "code",
   "execution_count": 1,
   "id": "19288dc7-bc62-48a7-aa90-c615624c8bb8",
   "metadata": {
    "tags": []
   },
   "outputs": [
    {
     "ename": "ModuleNotFoundError",
     "evalue": "No module named 'vars'",
     "output_type": "error",
     "traceback": [
      "\u001b[1;31m---------------------------------------------------------------------------\u001b[0m",
      "\u001b[1;31mModuleNotFoundError\u001b[0m                       Traceback (most recent call last)",
      "Cell \u001b[1;32mIn[1], line 1\u001b[0m\n\u001b[1;32m----> 1\u001b[0m \u001b[38;5;28;01mimport\u001b[39;00m \u001b[38;5;21;01mvars\u001b[39;00m\n",
      "\u001b[1;31mModuleNotFoundError\u001b[0m: No module named 'vars'"
     ]
    }
   ],
   "source": []
  },
  {
   "cell_type": "code",
   "execution_count": 8,
   "id": "75b5778b-f207-4d3f-9d74-837a0aece7c2",
   "metadata": {},
   "outputs": [
    {
     "name": "stdout",
     "output_type": "stream",
     "text": [
      "-1\n",
      "{}\n"
     ]
    }
   ],
   "source": [
    "class Index():\n",
    "    @property\n",
    "    def max_index(self):\n",
    "        maxindex = -1\n",
    "        for k,v in self.__dict__.items():\n",
    "            if v>maxindex:\n",
    "                maxindex = v\n",
    "        return maxindex\n",
    "    \n",
    "class _SHARED_PARAMS_INDEX(Index):\n",
    "    HEARTBEATTIME = 0\n",
    "    SERVERPID = 1\n",
    "    SERVERSTATUS = 2\n",
    "    NUMOFDEVICES = 3\n",
    "    ACTIONPORT = 4\n",
    "    def show(self):\n",
    "        print(self.__)\n",
    "SHARED_PARAMS_INDEX = _SHARED_PARAMS_INDEX()\n",
    "print(SHARED_PARAMS_INDEX.max_index)\n",
    "SHARED_PARAMS_INDEX.show()"
   ]
  },
  {
   "cell_type": "code",
   "execution_count": 35,
   "id": "dc57dc9b-8378-4e21-accd-ad36443897f7",
   "metadata": {
    "tags": []
   },
   "outputs": [],
   "source": [
    "from enum import Enum, auto, IntEnum\n",
    "# 定义一个枚举类，成员没有显式赋值\n",
    "class Color(IntEnum):\n",
    "    RED = 0\n",
    "    GREEN = 1\n",
    "    BLUE = 2\n",
    "    "
   ]
  },
  {
   "cell_type": "code",
   "execution_count": 32,
   "id": "c7d41bb9-b786-4d56-8925-ade0814cee13",
   "metadata": {
    "tags": []
   },
   "outputs": [
    {
     "data": {
      "text/plain": [
       "3"
      ]
     },
     "execution_count": 32,
     "metadata": {},
     "output_type": "execute_result"
    }
   ],
   "source": [
    "len(Color)"
   ]
  },
  {
   "cell_type": "code",
   "execution_count": 33,
   "id": "4edc91db-cf3e-4344-98f5-51ae9fdcf7c3",
   "metadata": {
    "tags": []
   },
   "outputs": [],
   "source": [
    "a = [12]\n",
    "a[Color.RED] = 1"
   ]
  },
  {
   "cell_type": "code",
   "execution_count": 44,
   "id": "127be573-6bef-4b09-a3a2-155150ca35e7",
   "metadata": {
    "tags": []
   },
   "outputs": [],
   "source": [
    "import logging\n",
    "logger = logging.getLogger()\n",
    "logger.setLevel(logging.DEBUG)\n",
    "handler = logging.StreamHandler()\n",
    "handler.setLevel(logging.DEBUG)  # 设置处理器的等级为DEBUG\n",
    "# 添加处理器到日志器\n",
    "logger.addHandler(handler)"
   ]
  },
  {
   "cell_type": "code",
   "execution_count": 45,
   "id": "3e5cd181-6c24-43c1-aa18-84c37dab9654",
   "metadata": {
    "tags": []
   },
   "outputs": [
    {
     "name": "stderr",
     "output_type": "stream",
     "text": [
      "hhh\n"
     ]
    }
   ],
   "source": [
    "logger.debug('hhh')"
   ]
  },
  {
   "cell_type": "code",
   "execution_count": 2,
   "id": "31a5aef5-616a-4a16-b079-5bd7b96071c6",
   "metadata": {},
   "outputs": [],
   "source": [
    "import websockets"
   ]
  },
  {
   "cell_type": "code",
   "execution_count": 3,
   "id": "a94592db-5be9-40fd-b211-0831010f410f",
   "metadata": {
    "tags": []
   },
   "outputs": [
    {
     "name": "stdout",
     "output_type": "stream",
     "text": [
      "Help on class Serve in module websockets.legacy.server:\n",
      "\n",
      "class Serve(builtins.object)\n",
      " |  Serve(ws_handler: 'Union[Callable[[WebSocketServerProtocol], Awaitable[Any]], Callable[[WebSocketServerProtocol, str], Awaitable[Any]]]', host: 'Optional[Union[str, Sequence[str]]]' = None, port: 'Optional[int]' = None, *, create_protocol: 'Optional[Callable[..., WebSocketServerProtocol]]' = None, logger: 'Optional[LoggerLike]' = None, compression: 'Optional[str]' = 'deflate', origins: 'Optional[Sequence[Optional[Origin]]]' = None, extensions: 'Optional[Sequence[ServerExtensionFactory]]' = None, subprotocols: 'Optional[Sequence[Subprotocol]]' = None, extra_headers: 'Optional[HeadersLikeOrCallable]' = None, server_header: 'Optional[str]' = 'Python/3.12 websockets/12.0', process_request: 'Optional[Callable[[str, Headers], Awaitable[Optional[HTTPResponse]]]]' = None, select_subprotocol: 'Optional[Callable[[Sequence[Subprotocol], Sequence[Subprotocol]], Subprotocol]]' = None, open_timeout: 'Optional[float]' = 10, ping_interval: 'Optional[float]' = 20, ping_timeout: 'Optional[float]' = 20, close_timeout: 'Optional[float]' = None, max_size: 'Optional[int]' = 1048576, max_queue: 'Optional[int]' = 32, read_limit: 'int' = 65536, write_limit: 'int' = 65536, **kwargs: 'Any') -> 'None'\n",
      " |\n",
      " |  Start a WebSocket server listening on ``host`` and ``port``.\n",
      " |\n",
      " |  Whenever a client connects, the server creates a\n",
      " |  :class:`WebSocketServerProtocol`, performs the opening handshake, and\n",
      " |  delegates to the connection handler, ``ws_handler``.\n",
      " |\n",
      " |  The handler receives the :class:`WebSocketServerProtocol` and uses it to\n",
      " |  send and receive messages.\n",
      " |\n",
      " |  Once the handler completes, either normally or with an exception, the\n",
      " |  server performs the closing handshake and closes the connection.\n",
      " |\n",
      " |  Awaiting :func:`serve` yields a :class:`WebSocketServer`. This object\n",
      " |  provides a :meth:`~WebSocketServer.close` method to shut down the server::\n",
      " |\n",
      " |      stop = asyncio.Future()  # set this future to exit the server\n",
      " |\n",
      " |      server = await serve(...)\n",
      " |      await stop\n",
      " |      await server.close()\n",
      " |\n",
      " |  :func:`serve` can be used as an asynchronous context manager. Then, the\n",
      " |  server is shut down automatically when exiting the context::\n",
      " |\n",
      " |      stop = asyncio.Future()  # set this future to exit the server\n",
      " |\n",
      " |      async with serve(...):\n",
      " |          await stop\n",
      " |\n",
      " |  Args:\n",
      " |      ws_handler: Connection handler. It receives the WebSocket connection,\n",
      " |          which is a :class:`WebSocketServerProtocol`, in argument.\n",
      " |      host: Network interfaces the server binds to.\n",
      " |          See :meth:`~asyncio.loop.create_server` for details.\n",
      " |      port: TCP port the server listens on.\n",
      " |          See :meth:`~asyncio.loop.create_server` for details.\n",
      " |      create_protocol: Factory for the :class:`asyncio.Protocol` managing\n",
      " |          the connection. It defaults to :class:`WebSocketServerProtocol`.\n",
      " |          Set it to a wrapper or a subclass to customize connection handling.\n",
      " |      logger: Logger for this server.\n",
      " |          It defaults to ``logging.getLogger(\"websockets.server\")``.\n",
      " |          See the :doc:`logging guide <../../topics/logging>` for details.\n",
      " |      compression: The \"permessage-deflate\" extension is enabled by default.\n",
      " |          Set ``compression`` to :obj:`None` to disable it. See the\n",
      " |          :doc:`compression guide <../../topics/compression>` for details.\n",
      " |      origins: Acceptable values of the ``Origin`` header, for defending\n",
      " |          against Cross-Site WebSocket Hijacking attacks. Include :obj:`None`\n",
      " |          in the list if the lack of an origin is acceptable.\n",
      " |      extensions: List of supported extensions, in order in which they\n",
      " |          should be negotiated and run.\n",
      " |      subprotocols: List of supported subprotocols, in order of decreasing\n",
      " |          preference.\n",
      " |      extra_headers (Union[HeadersLike, Callable[[str, Headers], HeadersLike]]):\n",
      " |          Arbitrary HTTP headers to add to the response. This can be\n",
      " |          a :data:`~websockets.datastructures.HeadersLike` or a callable\n",
      " |          taking the request path and headers in arguments and returning\n",
      " |          a :data:`~websockets.datastructures.HeadersLike`.\n",
      " |      server_header: Value of  the ``Server`` response header.\n",
      " |          It defaults to ``\"Python/x.y.z websockets/X.Y\"``.\n",
      " |          Setting it to :obj:`None` removes the header.\n",
      " |      process_request (Optional[Callable[[str, Headers],             Awaitable[Optional[Tuple[StatusLike, HeadersLike, bytes]]]]]):\n",
      " |          Intercept HTTP request before the opening handshake.\n",
      " |          See :meth:`~WebSocketServerProtocol.process_request` for details.\n",
      " |      select_subprotocol: Select a subprotocol supported by the client.\n",
      " |          See :meth:`~WebSocketServerProtocol.select_subprotocol` for details.\n",
      " |      open_timeout: Timeout for opening connections in seconds.\n",
      " |          :obj:`None` disables the timeout.\n",
      " |\n",
      " |  See :class:`~websockets.legacy.protocol.WebSocketCommonProtocol` for the\n",
      " |  documentation of ``ping_interval``, ``ping_timeout``, ``close_timeout``,\n",
      " |  ``max_size``, ``max_queue``, ``read_limit``, and ``write_limit``.\n",
      " |\n",
      " |  Any other keyword arguments are passed the event loop's\n",
      " |  :meth:`~asyncio.loop.create_server` method.\n",
      " |\n",
      " |  For example:\n",
      " |\n",
      " |  * You can set ``ssl`` to a :class:`~ssl.SSLContext` to enable TLS.\n",
      " |\n",
      " |  * You can set ``sock`` to a :obj:`~socket.socket` that you created\n",
      " |    outside of websockets.\n",
      " |\n",
      " |  Returns:\n",
      " |      WebSocketServer: WebSocket server.\n",
      " |\n",
      " |  Methods defined here:\n",
      " |\n",
      " |  async __aenter__(self) -> 'WebSocketServer'\n",
      " |\n",
      " |  async __aexit__(self, exc_type: 'Optional[Type[BaseException]]', exc_value: 'Optional[BaseException]', traceback: 'Optional[TracebackType]') -> 'None'\n",
      " |\n",
      " |  __await__(self) -> 'Generator[Any, None, WebSocketServer]'\n",
      " |\n",
      " |  async __await_impl__(self) -> 'WebSocketServer'\n",
      " |\n",
      " |  __init__(self, ws_handler: 'Union[Callable[[WebSocketServerProtocol], Awaitable[Any]], Callable[[WebSocketServerProtocol, str], Awaitable[Any]]]', host: 'Optional[Union[str, Sequence[str]]]' = None, port: 'Optional[int]' = None, *, create_protocol: 'Optional[Callable[..., WebSocketServerProtocol]]' = None, logger: 'Optional[LoggerLike]' = None, compression: 'Optional[str]' = 'deflate', origins: 'Optional[Sequence[Optional[Origin]]]' = None, extensions: 'Optional[Sequence[ServerExtensionFactory]]' = None, subprotocols: 'Optional[Sequence[Subprotocol]]' = None, extra_headers: 'Optional[HeadersLikeOrCallable]' = None, server_header: 'Optional[str]' = 'Python/3.12 websockets/12.0', process_request: 'Optional[Callable[[str, Headers], Awaitable[Optional[HTTPResponse]]]]' = None, select_subprotocol: 'Optional[Callable[[Sequence[Subprotocol], Sequence[Subprotocol]], Subprotocol]]' = None, open_timeout: 'Optional[float]' = 10, ping_interval: 'Optional[float]' = 20, ping_timeout: 'Optional[float]' = 20, close_timeout: 'Optional[float]' = None, max_size: 'Optional[int]' = 1048576, max_queue: 'Optional[int]' = 32, read_limit: 'int' = 65536, write_limit: 'int' = 65536, **kwargs: 'Any') -> 'None'\n",
      " |      Initialize self.  See help(type(self)) for accurate signature.\n",
      " |\n",
      " |  __iter__ = __await__(self) -> 'Generator[Any, None, WebSocketServer]'\n",
      " |\n",
      " |  ----------------------------------------------------------------------\n",
      " |  Data descriptors defined here:\n",
      " |\n",
      " |  __dict__\n",
      " |      dictionary for instance variables (if defined)\n",
      " |\n",
      " |  __weakref__\n",
      " |      list of weak references to the object (if defined)\n",
      "\n"
     ]
    }
   ],
   "source": [
    "help(websockets.serve)"
   ]
  },
  {
   "cell_type": "code",
   "execution_count": null,
   "id": "d5ec1e84-2ca9-41f7-818e-4b26bdc774f9",
   "metadata": {},
   "outputs": [],
   "source": []
  }
 ],
 "metadata": {
  "kernelspec": {
   "display_name": "py312",
   "language": "python",
   "name": "py312"
  },
  "language_info": {
   "codemirror_mode": {
    "name": "ipython",
    "version": 3
   },
   "file_extension": ".py",
   "mimetype": "text/x-python",
   "name": "python",
   "nbconvert_exporter": "python",
   "pygments_lexer": "ipython3",
   "version": "3.12.0"
  }
 },
 "nbformat": 4,
 "nbformat_minor": 5
}
